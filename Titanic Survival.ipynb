{
 "cells": [
  {
   "cell_type": "markdown",
   "id": "8f0200a1",
   "metadata": {},
   "source": [
    "# Titanic Survival\n",
    "\n",
    "### Introduction\n",
    "A junior data scientist has built a model that predicts whether a passenger survives the sinking of the titanic based on the cost of their fare.\n",
    "\n",
    "The software development team love the proof of concept and want to start using the model in new features, your job as a more senior data scientist is to review the model and methodology and make any improvements you can.\n",
    "\n",
    "### Instructions\n",
    " 1. Critically evaluate the methodology and the model\n",
    " 2. Suggest improvements to the methodology and the model\n",
    " 3. Collaborate to make any improvements you can in the given time\n",
    " 4. Suggest longer term, ambitious improvements\n",
    "\n",
    "The data is from [Titanic Kaggle competition](https://www.kaggle.com/c/titanic/overview)"
   ]
  },
  {
   "cell_type": "code",
   "execution_count": null,
   "id": "56079273",
   "metadata": {},
   "outputs": [],
   "source": [
    "import matplotlib.pyplot as plt\n",
    "import pandas as pd\n",
    "from sklearn.linear_model import LogisticRegression\n",
    "from sklearn.metrics import accuracy_score"
   ]
  },
  {
   "cell_type": "code",
   "execution_count": null,
   "id": "72b71737",
   "metadata": {},
   "outputs": [],
   "source": [
    "train = pd.read_csv(\"data/titanic/train.csv\")\n",
    "train.head()"
   ]
  },
  {
   "cell_type": "code",
   "execution_count": null,
   "id": "6191f64f",
   "metadata": {},
   "outputs": [],
   "source": [
    "SURVIVED_COL = \"Survived\"\n",
    "FARE_COL = \"Fare\""
   ]
  },
  {
   "cell_type": "code",
   "execution_count": null,
   "id": "885f6496",
   "metadata": {},
   "outputs": [],
   "source": [
    "train[FARE_COL].fillna(method=\"bfill\", inplace=True)"
   ]
  },
  {
   "cell_type": "code",
   "execution_count": null,
   "id": "b969a607",
   "metadata": {},
   "outputs": [],
   "source": [
    "grouped = train[[SURVIVED_COL, FARE_COL]].groupby(SURVIVED_COL).mean()\n",
    "grouped"
   ]
  },
  {
   "cell_type": "code",
   "execution_count": null,
   "id": "1905f2a7",
   "metadata": {},
   "outputs": [],
   "source": [
    "_ = grouped.plot(kind=\"bar\")"
   ]
  },
  {
   "cell_type": "code",
   "execution_count": null,
   "id": "b3a085e3",
   "metadata": {},
   "outputs": [],
   "source": [
    "train_x = train[[FARE_COL]]\n",
    "val_x = train[[FARE_COL]].tail(100)\n",
    "\n",
    "train_y = train[SURVIVED_COL]\n",
    "val_y = train[SURVIVED_COL].tail(100)\n",
    "\n",
    "model = LogisticRegression()\n",
    "model.fit(train_x, train_y)\n",
    "\n",
    "preds = model.predict(val_x)\n",
    "\n",
    "accuracy_score(val_y, preds)"
   ]
  },
  {
   "cell_type": "code",
   "execution_count": null,
   "id": "887dc465",
   "metadata": {},
   "outputs": [],
   "source": []
  }
 ],
 "metadata": {
  "kernelspec": {
   "display_name": "Python 3 (ipykernel)",
   "language": "python",
   "name": "python3"
  },
  "language_info": {
   "codemirror_mode": {
    "name": "ipython",
    "version": 3
   },
   "file_extension": ".py",
   "mimetype": "text/x-python",
   "name": "python",
   "nbconvert_exporter": "python",
   "pygments_lexer": "ipython3",
   "version": "3.8.10"
  }
 },
 "nbformat": 4,
 "nbformat_minor": 5
}
